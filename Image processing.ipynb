{
 "cells": [
  {
   "cell_type": "code",
   "execution_count": 2,
   "id": "11c79d41-248f-4f06-b6a9-039a7b4e8105",
   "metadata": {},
   "outputs": [
    {
     "name": "stdout",
     "output_type": "stream",
     "text": [
      "Requirement already satisfied: opencv-python in c:\\users\\hp\\anaconda3\\lib\\site-packages (4.11.0.86)\n",
      "Requirement already satisfied: numpy>=1.21.2 in c:\\users\\hp\\anaconda3\\lib\\site-packages (from opencv-python) (1.26.4)\n",
      "Note: you may need to restart the kernel to use updated packages.\n"
     ]
    }
   ],
   "source": [
    "pip install opencv-python"
   ]
  },
  {
   "cell_type": "code",
   "execution_count": 12,
   "id": "9b393668-ce75-4cb2-8f28-5e9191369125",
   "metadata": {},
   "outputs": [],
   "source": [
    "import cv2\n",
    "\n",
    "img = cv2.imread(\"desktop-wallpaper-tiny-bts-tinytan-thumbnail.jpg\",1)  \n",
    "if img is None:\n",
    "    print(\"Error: Image not loaded. Check the file path.\")\n",
    "else:\n",
    "    cv2.imshow(\"window\", img)\n",
    "    cv2.waitKey(0)"
   ]
  },
  {
   "cell_type": "code",
   "execution_count": 13,
   "id": "e0150965-dfa2-4ccc-91e0-875df283654e",
   "metadata": {},
   "outputs": [],
   "source": [
    "import cv2\n",
    "\n",
    "img = cv2.imread(\"pngtree-beautiful-black-and-white-butterfly-png-image_4699516.jpg\",0)  \n",
    "if img is None:\n",
    "    print(\"Error: Image not loaded. Check the file path.\")\n",
    "else:\n",
    "    cv2.imshow(\"window\", img)\n",
    "    cv2.waitKey(0)"
   ]
  },
  {
   "cell_type": "code",
   "execution_count": null,
   "id": "c18b5016-b0c2-45af-8842-ea19ec4cbc92",
   "metadata": {},
   "outputs": [],
   "source": []
  }
 ],
 "metadata": {
  "kernelspec": {
   "display_name": "Python 3 (ipykernel)",
   "language": "python",
   "name": "python3"
  },
  "language_info": {
   "codemirror_mode": {
    "name": "ipython",
    "version": 3
   },
   "file_extension": ".py",
   "mimetype": "text/x-python",
   "name": "python",
   "nbconvert_exporter": "python",
   "pygments_lexer": "ipython3",
   "version": "3.12.7"
  }
 },
 "nbformat": 4,
 "nbformat_minor": 5
}
