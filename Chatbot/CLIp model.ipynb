{
 "cells": [
  {
   "cell_type": "code",
   "execution_count": 1,
   "id": "e5367f82-4c84-4cfd-a15a-d0c702da9158",
   "metadata": {},
   "outputs": [
    {
     "name": "stdout",
     "output_type": "stream",
     "text": [
      "Collecting torch\n",
      "  Downloading torch-2.6.0-cp312-cp312-win_amd64.whl.metadata (28 kB)\n",
      "Collecting torchvision\n",
      "  Downloading torchvision-0.21.0-cp312-cp312-win_amd64.whl.metadata (6.3 kB)\n",
      "Collecting transformers\n",
      "  Downloading transformers-4.49.0-py3-none-any.whl.metadata (44 kB)\n",
      "Requirement already satisfied: filelock in c:\\users\\hp\\anaconda3\\lib\\site-packages (from torch) (3.13.1)\n",
      "Requirement already satisfied: typing-extensions>=4.10.0 in c:\\users\\hp\\anaconda3\\lib\\site-packages (from torch) (4.11.0)\n",
      "Requirement already satisfied: networkx in c:\\users\\hp\\anaconda3\\lib\\site-packages (from torch) (3.3)\n",
      "Requirement already satisfied: jinja2 in c:\\users\\hp\\anaconda3\\lib\\site-packages (from torch) (3.1.4)\n",
      "Requirement already satisfied: fsspec in c:\\users\\hp\\anaconda3\\lib\\site-packages (from torch) (2024.6.1)\n",
      "Requirement already satisfied: setuptools in c:\\users\\hp\\anaconda3\\lib\\site-packages (from torch) (75.1.0)\n",
      "Collecting sympy==1.13.1 (from torch)\n",
      "  Downloading sympy-1.13.1-py3-none-any.whl.metadata (12 kB)\n",
      "Requirement already satisfied: mpmath<1.4,>=1.1.0 in c:\\users\\hp\\anaconda3\\lib\\site-packages (from sympy==1.13.1->torch) (1.3.0)\n",
      "Requirement already satisfied: numpy in c:\\users\\hp\\anaconda3\\lib\\site-packages (from torchvision) (1.26.4)\n",
      "Requirement already satisfied: pillow!=8.3.*,>=5.3.0 in c:\\users\\hp\\anaconda3\\lib\\site-packages (from torchvision) (10.4.0)\n",
      "Collecting huggingface-hub<1.0,>=0.26.0 (from transformers)\n",
      "  Downloading huggingface_hub-0.29.1-py3-none-any.whl.metadata (13 kB)\n",
      "Requirement already satisfied: packaging>=20.0 in c:\\users\\hp\\anaconda3\\lib\\site-packages (from transformers) (24.1)\n",
      "Requirement already satisfied: pyyaml>=5.1 in c:\\users\\hp\\anaconda3\\lib\\site-packages (from transformers) (6.0.1)\n",
      "Requirement already satisfied: regex!=2019.12.17 in c:\\users\\hp\\anaconda3\\lib\\site-packages (from transformers) (2024.9.11)\n",
      "Requirement already satisfied: requests in c:\\users\\hp\\anaconda3\\lib\\site-packages (from transformers) (2.32.3)\n",
      "Collecting tokenizers<0.22,>=0.21 (from transformers)\n",
      "  Downloading tokenizers-0.21.0-cp39-abi3-win_amd64.whl.metadata (6.9 kB)\n",
      "Collecting safetensors>=0.4.1 (from transformers)\n",
      "  Downloading safetensors-0.5.3-cp38-abi3-win_amd64.whl.metadata (3.9 kB)\n",
      "Requirement already satisfied: tqdm>=4.27 in c:\\users\\hp\\anaconda3\\lib\\site-packages (from transformers) (4.66.5)\n",
      "Requirement already satisfied: colorama in c:\\users\\hp\\anaconda3\\lib\\site-packages (from tqdm>=4.27->transformers) (0.4.6)\n",
      "Requirement already satisfied: MarkupSafe>=2.0 in c:\\users\\hp\\anaconda3\\lib\\site-packages (from jinja2->torch) (2.1.3)\n",
      "Requirement already satisfied: charset-normalizer<4,>=2 in c:\\users\\hp\\anaconda3\\lib\\site-packages (from requests->transformers) (3.3.2)\n",
      "Requirement already satisfied: idna<4,>=2.5 in c:\\users\\hp\\anaconda3\\lib\\site-packages (from requests->transformers) (3.7)\n",
      "Requirement already satisfied: urllib3<3,>=1.21.1 in c:\\users\\hp\\anaconda3\\lib\\site-packages (from requests->transformers) (2.2.3)\n",
      "Requirement already satisfied: certifi>=2017.4.17 in c:\\users\\hp\\anaconda3\\lib\\site-packages (from requests->transformers) (2024.8.30)\n",
      "Downloading torch-2.6.0-cp312-cp312-win_amd64.whl (204.1 MB)\n",
      "   ---------------------------------------- 0.0/204.1 MB ? eta -:--:--\n",
      "   ---------------------------------------- 1.8/204.1 MB 11.2 MB/s eta 0:00:19\n",
      "    --------------------------------------- 2.9/204.1 MB 9.3 MB/s eta 0:00:22\n",
      "   - -------------------------------------- 6.3/204.1 MB 10.4 MB/s eta 0:00:19\n",
      "   - -------------------------------------- 8.4/204.1 MB 10.2 MB/s eta 0:00:20\n",
      "   -- ------------------------------------- 10.5/204.1 MB 9.9 MB/s eta 0:00:20\n",
      "   -- ------------------------------------- 12.3/204.1 MB 9.9 MB/s eta 0:00:20\n",
      "   -- ------------------------------------- 14.7/204.1 MB 10.0 MB/s eta 0:00:19\n",
      "   --- ------------------------------------ 17.0/204.1 MB 10.1 MB/s eta 0:00:19\n",
      "   --- ------------------------------------ 19.7/204.1 MB 10.3 MB/s eta 0:00:18\n",
      "   ---- ----------------------------------- 22.3/204.1 MB 10.4 MB/s eta 0:00:18\n",
      "   ---- ----------------------------------- 24.4/204.1 MB 10.4 MB/s eta 0:00:18\n",
      "   ----- ---------------------------------- 26.5/204.1 MB 10.4 MB/s eta 0:00:18\n",
      "   ----- ---------------------------------- 28.8/204.1 MB 10.4 MB/s eta 0:00:17\n",
      "   ------ --------------------------------- 31.5/204.1 MB 10.5 MB/s eta 0:00:17\n",
      "   ------ --------------------------------- 33.8/204.1 MB 10.5 MB/s eta 0:00:17\n",
      "   ------- -------------------------------- 36.2/204.1 MB 10.5 MB/s eta 0:00:16\n",
      "   ------- -------------------------------- 38.0/204.1 MB 10.5 MB/s eta 0:00:16\n",
      "   ------- -------------------------------- 40.4/204.1 MB 10.4 MB/s eta 0:00:16\n",
      "   -------- ------------------------------- 42.7/204.1 MB 10.5 MB/s eta 0:00:16\n",
      "   -------- ------------------------------- 44.8/204.1 MB 10.4 MB/s eta 0:00:16\n",
      "   --------- ------------------------------ 46.4/204.1 MB 10.4 MB/s eta 0:00:16\n",
      "   --------- ------------------------------ 49.0/204.1 MB 10.3 MB/s eta 0:00:16\n",
      "   --------- ------------------------------ 50.9/204.1 MB 10.3 MB/s eta 0:00:15\n",
      "   ---------- ----------------------------- 53.0/204.1 MB 10.3 MB/s eta 0:00:15\n",
      "   ---------- ----------------------------- 54.3/204.1 MB 10.1 MB/s eta 0:00:15\n",
      "   ---------- ----------------------------- 55.8/204.1 MB 10.0 MB/s eta 0:00:15\n",
      "   ----------- ---------------------------- 58.2/204.1 MB 10.1 MB/s eta 0:00:15\n",
      "   ----------- ---------------------------- 60.0/204.1 MB 10.0 MB/s eta 0:00:15\n",
      "   ------------ --------------------------- 61.9/204.1 MB 10.0 MB/s eta 0:00:15\n",
      "   ------------ --------------------------- 64.7/204.1 MB 9.9 MB/s eta 0:00:15\n",
      "   ------------- -------------------------- 66.6/204.1 MB 9.9 MB/s eta 0:00:14\n",
      "   ------------- -------------------------- 68.4/204.1 MB 9.8 MB/s eta 0:00:14\n",
      "   ------------- -------------------------- 70.0/204.1 MB 9.8 MB/s eta 0:00:14\n",
      "   ------------- -------------------------- 71.3/204.1 MB 9.7 MB/s eta 0:00:14\n",
      "   -------------- ------------------------- 72.9/204.1 MB 9.6 MB/s eta 0:00:14\n",
      "   -------------- ------------------------- 74.4/204.1 MB 9.5 MB/s eta 0:00:14\n",
      "   -------------- ------------------------- 76.0/204.1 MB 9.5 MB/s eta 0:00:14\n",
      "   --------------- ------------------------ 77.6/204.1 MB 9.4 MB/s eta 0:00:14\n",
      "   --------------- ------------------------ 78.4/204.1 MB 9.3 MB/s eta 0:00:14\n",
      "   --------------- ------------------------ 80.0/204.1 MB 9.2 MB/s eta 0:00:14\n",
      "   ---------------- ----------------------- 82.3/204.1 MB 9.2 MB/s eta 0:00:14\n",
      "   ---------------- ----------------------- 83.4/204.1 MB 9.2 MB/s eta 0:00:14\n",
      "   ---------------- ----------------------- 84.9/204.1 MB 9.1 MB/s eta 0:00:14\n",
      "   ----------------- ---------------------- 87.3/204.1 MB 9.1 MB/s eta 0:00:13\n",
      "   ----------------- ---------------------- 89.1/204.1 MB 9.1 MB/s eta 0:00:13\n",
      "   ----------------- ---------------------- 91.0/204.1 MB 9.1 MB/s eta 0:00:13\n",
      "   ------------------ --------------------- 92.5/204.1 MB 9.1 MB/s eta 0:00:13\n",
      "   ------------------ --------------------- 94.6/204.1 MB 9.1 MB/s eta 0:00:13\n",
      "   ------------------ --------------------- 96.7/204.1 MB 9.1 MB/s eta 0:00:12\n",
      "   ------------------- -------------------- 98.6/204.1 MB 9.1 MB/s eta 0:00:12\n",
      "   ------------------- -------------------- 100.1/204.1 MB 9.0 MB/s eta 0:00:12\n",
      "   ------------------- -------------------- 101.7/204.1 MB 9.0 MB/s eta 0:00:12\n",
      "   -------------------- ------------------- 103.0/204.1 MB 9.0 MB/s eta 0:00:12\n",
      "   -------------------- ------------------- 105.4/204.1 MB 9.0 MB/s eta 0:00:12\n",
      "   -------------------- ------------------- 107.0/204.1 MB 8.9 MB/s eta 0:00:11\n",
      "   --------------------- ------------------ 108.8/204.1 MB 8.9 MB/s eta 0:00:11\n",
      "   --------------------- ------------------ 110.4/204.1 MB 8.9 MB/s eta 0:00:11\n",
      "   ---------------------- ----------------- 112.5/204.1 MB 8.9 MB/s eta 0:00:11\n",
      "   ---------------------- ----------------- 114.3/204.1 MB 8.9 MB/s eta 0:00:11\n",
      "   ---------------------- ----------------- 116.1/204.1 MB 8.9 MB/s eta 0:00:10\n",
      "   ----------------------- ---------------- 118.0/204.1 MB 8.9 MB/s eta 0:00:10\n",
      "   ----------------------- ---------------- 118.5/204.1 MB 8.8 MB/s eta 0:00:10\n",
      "   ----------------------- ---------------- 119.8/204.1 MB 8.7 MB/s eta 0:00:10\n",
      "   ----------------------- ---------------- 122.2/204.1 MB 8.7 MB/s eta 0:00:10\n",
      "   ------------------------ --------------- 124.5/204.1 MB 8.8 MB/s eta 0:00:10\n",
      "   ------------------------ --------------- 126.4/204.1 MB 8.8 MB/s eta 0:00:09\n",
      "   ------------------------- -------------- 129.0/204.1 MB 8.8 MB/s eta 0:00:09\n",
      "   ------------------------- -------------- 131.3/204.1 MB 8.8 MB/s eta 0:00:09\n",
      "   -------------------------- ------------- 133.7/204.1 MB 8.8 MB/s eta 0:00:08\n",
      "   -------------------------- ------------- 135.8/204.1 MB 8.9 MB/s eta 0:00:08\n",
      "   --------------------------- ------------ 138.1/204.1 MB 8.9 MB/s eta 0:00:08\n",
      "   --------------------------- ------------ 140.2/204.1 MB 8.9 MB/s eta 0:00:08\n",
      "   --------------------------- ------------ 142.3/204.1 MB 8.9 MB/s eta 0:00:07\n",
      "   ---------------------------- ----------- 144.2/204.1 MB 8.9 MB/s eta 0:00:07\n",
      "   ---------------------------- ----------- 146.5/204.1 MB 8.9 MB/s eta 0:00:07\n",
      "   ----------------------------- ---------- 148.9/204.1 MB 9.0 MB/s eta 0:00:07\n",
      "   ----------------------------- ---------- 151.5/204.1 MB 9.0 MB/s eta 0:00:06\n",
      "   ------------------------------ --------- 153.6/204.1 MB 9.0 MB/s eta 0:00:06\n",
      "   ------------------------------ --------- 155.7/204.1 MB 9.0 MB/s eta 0:00:06\n",
      "   ------------------------------ --------- 157.8/204.1 MB 9.0 MB/s eta 0:00:06\n",
      "   ------------------------------- -------- 159.4/204.1 MB 9.0 MB/s eta 0:00:05\n",
      "   ------------------------------- -------- 161.7/204.1 MB 9.0 MB/s eta 0:00:05\n",
      "   -------------------------------- ------- 163.6/204.1 MB 9.0 MB/s eta 0:00:05\n",
      "   -------------------------------- ------- 165.7/204.1 MB 9.0 MB/s eta 0:00:05\n",
      "   -------------------------------- ------- 168.0/204.1 MB 9.0 MB/s eta 0:00:05\n",
      "   --------------------------------- ------ 170.1/204.1 MB 9.0 MB/s eta 0:00:04\n",
      "   --------------------------------- ------ 172.5/204.1 MB 9.0 MB/s eta 0:00:04\n",
      "   ---------------------------------- ----- 174.6/204.1 MB 9.1 MB/s eta 0:00:04\n",
      "   ---------------------------------- ----- 176.2/204.1 MB 9.0 MB/s eta 0:00:04\n",
      "   ---------------------------------- ----- 178.0/204.1 MB 9.0 MB/s eta 0:00:03\n",
      "   ----------------------------------- ---- 180.4/204.1 MB 9.0 MB/s eta 0:00:03\n",
      "   ----------------------------------- ---- 182.7/204.1 MB 9.1 MB/s eta 0:00:03\n",
      "   ------------------------------------ --- 184.8/204.1 MB 9.1 MB/s eta 0:00:03\n",
      "   ------------------------------------ --- 186.9/204.1 MB 9.1 MB/s eta 0:00:02\n",
      "   ------------------------------------- -- 189.3/204.1 MB 9.1 MB/s eta 0:00:02\n",
      "   ------------------------------------- -- 191.6/204.1 MB 9.1 MB/s eta 0:00:02\n",
      "   ------------------------------------- -- 193.7/204.1 MB 9.1 MB/s eta 0:00:02\n",
      "   -------------------------------------- - 196.1/204.1 MB 9.1 MB/s eta 0:00:01\n",
      "   -------------------------------------- - 198.7/204.1 MB 9.1 MB/s eta 0:00:01\n",
      "   ---------------------------------------  200.8/204.1 MB 9.2 MB/s eta 0:00:01\n",
      "   ---------------------------------------  202.9/204.1 MB 9.2 MB/s eta 0:00:01\n",
      "   ---------------------------------------  203.9/204.1 MB 9.2 MB/s eta 0:00:01\n",
      "   ---------------------------------------  203.9/204.1 MB 9.2 MB/s eta 0:00:01\n",
      "   ---------------------------------------  203.9/204.1 MB 9.2 MB/s eta 0:00:01\n",
      "   ---------------------------------------  203.9/204.1 MB 9.2 MB/s eta 0:00:01\n",
      "   ---------------------------------------  203.9/204.1 MB 9.2 MB/s eta 0:00:01\n",
      "   ---------------------------------------- 204.1/204.1 MB 8.8 MB/s eta 0:00:00\n",
      "Downloading sympy-1.13.1-py3-none-any.whl (6.2 MB)\n",
      "   ---------------------------------------- 0.0/6.2 MB ? eta -:--:--\n",
      "   ----------- ---------------------------- 1.8/6.2 MB 10.0 MB/s eta 0:00:01\n",
      "   ---------------------------- ----------- 4.5/6.2 MB 10.7 MB/s eta 0:00:01\n",
      "   ---------------------------------------- 6.2/6.2 MB 9.7 MB/s eta 0:00:00\n",
      "Downloading torchvision-0.21.0-cp312-cp312-win_amd64.whl (1.6 MB)\n",
      "   ---------------------------------------- 0.0/1.6 MB ? eta -:--:--\n",
      "   ---------------------------------------- 1.6/1.6 MB 6.9 MB/s eta 0:00:00\n",
      "Downloading transformers-4.49.0-py3-none-any.whl (10.0 MB)\n",
      "   ---------------------------------------- 0.0/10.0 MB ? eta -:--:--\n",
      "   --------- ------------------------------ 2.4/10.0 MB 12.2 MB/s eta 0:00:01\n",
      "   ------------------ --------------------- 4.7/10.0 MB 11.9 MB/s eta 0:00:01\n",
      "   --------------------------- ------------ 6.8/10.0 MB 11.0 MB/s eta 0:00:01\n",
      "   ----------------------------------- ---- 8.9/10.0 MB 10.9 MB/s eta 0:00:01\n",
      "   ---------------------------------------- 10.0/10.0 MB 9.6 MB/s eta 0:00:00\n",
      "Downloading huggingface_hub-0.29.1-py3-none-any.whl (468 kB)\n",
      "Downloading safetensors-0.5.3-cp38-abi3-win_amd64.whl (308 kB)\n",
      "Downloading tokenizers-0.21.0-cp39-abi3-win_amd64.whl (2.4 MB)\n",
      "   ---------------------------------------- 0.0/2.4 MB ? eta -:--:--\n",
      "   -------------------------- ------------- 1.6/2.4 MB 7.6 MB/s eta 0:00:01\n",
      "   ---------------------------------------- 2.4/2.4 MB 7.2 MB/s eta 0:00:00\n",
      "Installing collected packages: sympy, safetensors, torch, huggingface-hub, torchvision, tokenizers, transformers\n",
      "  Attempting uninstall: sympy\n",
      "    Found existing installation: sympy 1.13.2\n",
      "    Uninstalling sympy-1.13.2:\n",
      "      Successfully uninstalled sympy-1.13.2\n",
      "Successfully installed huggingface-hub-0.29.1 safetensors-0.5.3 sympy-1.13.1 tokenizers-0.21.0 torch-2.6.0 torchvision-0.21.0 transformers-4.49.0\n",
      "Note: you may need to restart the kernel to use updated packages.\n"
     ]
    }
   ],
   "source": [
    "pip install torch torchvision transformers\n"
   ]
  },
  {
   "cell_type": "code",
   "execution_count": 3,
   "id": "0a52d4f5-2333-44b0-a0a0-ffca3c1bee72",
   "metadata": {},
   "outputs": [
    {
     "name": "stdout",
     "output_type": "stream",
     "text": [
      "Requirement already satisfied: transformers in c:\\users\\hp\\anaconda3\\lib\\site-packages (4.49.0)\n",
      "Requirement already satisfied: filelock in c:\\users\\hp\\anaconda3\\lib\\site-packages (from transformers) (3.13.1)\n",
      "Requirement already satisfied: huggingface-hub<1.0,>=0.26.0 in c:\\users\\hp\\anaconda3\\lib\\site-packages (from transformers) (0.29.1)\n",
      "Requirement already satisfied: numpy>=1.17 in c:\\users\\hp\\anaconda3\\lib\\site-packages (from transformers) (1.26.4)\n",
      "Requirement already satisfied: packaging>=20.0 in c:\\users\\hp\\anaconda3\\lib\\site-packages (from transformers) (24.1)\n",
      "Requirement already satisfied: pyyaml>=5.1 in c:\\users\\hp\\anaconda3\\lib\\site-packages (from transformers) (6.0.1)\n",
      "Requirement already satisfied: regex!=2019.12.17 in c:\\users\\hp\\anaconda3\\lib\\site-packages (from transformers) (2024.9.11)\n",
      "Requirement already satisfied: requests in c:\\users\\hp\\anaconda3\\lib\\site-packages (from transformers) (2.32.3)\n",
      "Requirement already satisfied: tokenizers<0.22,>=0.21 in c:\\users\\hp\\anaconda3\\lib\\site-packages (from transformers) (0.21.0)\n",
      "Requirement already satisfied: safetensors>=0.4.1 in c:\\users\\hp\\anaconda3\\lib\\site-packages (from transformers) (0.5.3)\n",
      "Requirement already satisfied: tqdm>=4.27 in c:\\users\\hp\\anaconda3\\lib\\site-packages (from transformers) (4.66.5)\n",
      "Requirement already satisfied: fsspec>=2023.5.0 in c:\\users\\hp\\anaconda3\\lib\\site-packages (from huggingface-hub<1.0,>=0.26.0->transformers) (2024.6.1)\n",
      "Requirement already satisfied: typing-extensions>=3.7.4.3 in c:\\users\\hp\\anaconda3\\lib\\site-packages (from huggingface-hub<1.0,>=0.26.0->transformers) (4.11.0)\n",
      "Requirement already satisfied: colorama in c:\\users\\hp\\anaconda3\\lib\\site-packages (from tqdm>=4.27->transformers) (0.4.6)\n",
      "Requirement already satisfied: charset-normalizer<4,>=2 in c:\\users\\hp\\anaconda3\\lib\\site-packages (from requests->transformers) (3.3.2)\n",
      "Requirement already satisfied: idna<4,>=2.5 in c:\\users\\hp\\anaconda3\\lib\\site-packages (from requests->transformers) (3.7)\n",
      "Requirement already satisfied: urllib3<3,>=1.21.1 in c:\\users\\hp\\anaconda3\\lib\\site-packages (from requests->transformers) (2.2.3)\n",
      "Requirement already satisfied: certifi>=2017.4.17 in c:\\users\\hp\\anaconda3\\lib\\site-packages (from requests->transformers) (2024.8.30)\n"
     ]
    }
   ],
   "source": [
    "!pip install transformers\n"
   ]
  },
  {
   "cell_type": "code",
   "execution_count": 1,
   "id": "be40b5e5-01b2-4cf5-a595-de84b973de35",
   "metadata": {},
   "outputs": [],
   "source": [
    "import os\n",
    "os.environ[\"HF_HUB_DISABLE_SYMLINKS_WARNING\"] = \"1\"\n"
   ]
  },
  {
   "cell_type": "code",
   "execution_count": 2,
   "id": "f844390c-80fa-4eaf-af06-7d4d0a602ad6",
   "metadata": {},
   "outputs": [
    {
     "name": "stdout",
     "output_type": "stream",
     "text": [
      "Requirement already satisfied: ipywidgets in c:\\users\\hp\\anaconda3\\lib\\site-packages (8.1.5)\n",
      "Requirement already satisfied: comm>=0.1.3 in c:\\users\\hp\\anaconda3\\lib\\site-packages (from ipywidgets) (0.2.1)\n",
      "Requirement already satisfied: ipython>=6.1.0 in c:\\users\\hp\\anaconda3\\lib\\site-packages (from ipywidgets) (8.27.0)\n",
      "Requirement already satisfied: traitlets>=4.3.1 in c:\\users\\hp\\anaconda3\\lib\\site-packages (from ipywidgets) (5.14.3)\n",
      "Requirement already satisfied: widgetsnbextension~=4.0.12 in c:\\users\\hp\\anaconda3\\lib\\site-packages (from ipywidgets) (4.0.13)\n",
      "Requirement already satisfied: jupyterlab-widgets~=3.0.12 in c:\\users\\hp\\anaconda3\\lib\\site-packages (from ipywidgets) (3.0.13)\n",
      "Requirement already satisfied: decorator in c:\\users\\hp\\anaconda3\\lib\\site-packages (from ipython>=6.1.0->ipywidgets) (5.1.1)\n",
      "Requirement already satisfied: jedi>=0.16 in c:\\users\\hp\\anaconda3\\lib\\site-packages (from ipython>=6.1.0->ipywidgets) (0.19.1)\n",
      "Requirement already satisfied: matplotlib-inline in c:\\users\\hp\\anaconda3\\lib\\site-packages (from ipython>=6.1.0->ipywidgets) (0.1.6)\n",
      "Requirement already satisfied: prompt-toolkit<3.1.0,>=3.0.41 in c:\\users\\hp\\anaconda3\\lib\\site-packages (from ipython>=6.1.0->ipywidgets) (3.0.43)\n",
      "Requirement already satisfied: pygments>=2.4.0 in c:\\users\\hp\\anaconda3\\lib\\site-packages (from ipython>=6.1.0->ipywidgets) (2.15.1)\n",
      "Requirement already satisfied: stack-data in c:\\users\\hp\\anaconda3\\lib\\site-packages (from ipython>=6.1.0->ipywidgets) (0.2.0)\n",
      "Requirement already satisfied: colorama in c:\\users\\hp\\anaconda3\\lib\\site-packages (from ipython>=6.1.0->ipywidgets) (0.4.6)\n",
      "Requirement already satisfied: parso<0.9.0,>=0.8.3 in c:\\users\\hp\\anaconda3\\lib\\site-packages (from jedi>=0.16->ipython>=6.1.0->ipywidgets) (0.8.3)\n",
      "Requirement already satisfied: wcwidth in c:\\users\\hp\\anaconda3\\lib\\site-packages (from prompt-toolkit<3.1.0,>=3.0.41->ipython>=6.1.0->ipywidgets) (0.2.5)\n",
      "Requirement already satisfied: executing in c:\\users\\hp\\anaconda3\\lib\\site-packages (from stack-data->ipython>=6.1.0->ipywidgets) (0.8.3)\n",
      "Requirement already satisfied: asttokens in c:\\users\\hp\\anaconda3\\lib\\site-packages (from stack-data->ipython>=6.1.0->ipywidgets) (2.0.5)\n",
      "Requirement already satisfied: pure-eval in c:\\users\\hp\\anaconda3\\lib\\site-packages (from stack-data->ipython>=6.1.0->ipywidgets) (0.2.2)\n",
      "Requirement already satisfied: six in c:\\users\\hp\\anaconda3\\lib\\site-packages (from asttokens->stack-data->ipython>=6.1.0->ipywidgets) (1.16.0)\n"
     ]
    }
   ],
   "source": [
    "!pip install --upgrade ipywidgets\n"
   ]
  },
  {
   "cell_type": "code",
   "execution_count": 3,
   "id": "d5e89ce2-fd23-41e3-9d8c-28ef8c750537",
   "metadata": {},
   "outputs": [
    {
     "name": "stdout",
     "output_type": "stream",
     "text": [
      "CLIP loaded successfully!\n"
     ]
    }
   ],
   "source": [
    "from transformers import CLIPProcessor, CLIPModel\n",
    "\n",
    "model = CLIPModel.from_pretrained(\"openai/clip-vit-base-patch32\")\n",
    "processor = CLIPProcessor.from_pretrained(\"openai/clip-vit-base-patch32\")\n",
    "print(\"CLIP loaded successfully!\")\n"
   ]
  },
  {
   "cell_type": "code",
   "execution_count": 6,
   "id": "7197141f-66c6-46d2-ad1e-d80b54627b70",
   "metadata": {},
   "outputs": [
    {
     "name": "stdout",
     "output_type": "stream",
     "text": [
      "CLIP model loaded successfully on cpu\n"
     ]
    }
   ],
   "source": [
    "import torch\n",
    "from transformers import CLIPProcessor, CLIPModel\n",
    "from PIL import Image\n",
    "\n",
    "# Load the model\n",
    "device = \"cuda\" if torch.cuda.is_available() else \"cpu\"\n",
    "\n",
    "# Load CLIP model from Hugging Face\n",
    "model = CLIPModel.from_pretrained(\"openai/clip-vit-base-patch32\").to(device)\n",
    "processor = CLIPProcessor.from_pretrained(\"openai/clip-vit-base-patch32\")\n",
    "\n",
    "print(\"CLIP model loaded successfully on\", device)\n",
    "\n"
   ]
  },
  {
   "cell_type": "code",
   "execution_count": 9,
   "id": "c4c01b10-dc66-43d0-becf-d7168c75e0b1",
   "metadata": {},
   "outputs": [
    {
     "name": "stdout",
     "output_type": "stream",
     "text": [
      "Image processed successfully!\n"
     ]
    }
   ],
   "source": [
    "image = Image.open(\"a charming puppy dog in vibrant red sweater puppy dog pet winter animal png.jpg\")  # Replace with your image path\n",
    "inputs = processor(images=image, return_tensors=\"pt\").to(device)\n",
    "\n",
    "# Get image embeddings\n",
    "with torch.no_grad():\n",
    "    image_features = model.get_image_features(**inputs)\n",
    "\n",
    "print(\"Image processed successfully!\")\n",
    "\n"
   ]
  },
  {
   "cell_type": "code",
   "execution_count": 14,
   "id": "90c845b1-d876-471c-a0df-1eb867827507",
   "metadata": {},
   "outputs": [
    {
     "name": "stdout",
     "output_type": "stream",
     "text": [
      "tensor([[0.3455, 0.3302, 0.3243]])\n"
     ]
    }
   ],
   "source": [
    "from transformers import CLIPProcessor, CLIPModel\n",
    "from PIL import Image\n",
    "import torch\n",
    "\n",
    "# Set up device, model, and processor\n",
    "device = \"cuda\" if torch.cuda.is_available() else \"cpu\"\n",
    "model = CLIPModel.from_pretrained(\"openai/clip-vit-base-patch32\").to(device)\n",
    "processor = CLIPProcessor.from_pretrained(\"openai/clip-vit-base-patch32\")\n",
    "\n",
    "# Load image (Replace 'your_image.jpg' with actual image path)\n",
    "image = Image.open(\"a charming puppy dog in vibrant red sweater puppy dog pet winter animal png.jpg\")\n",
    "\n",
    "# Define text descriptions for comparison\n",
    "texts = [\"a dog\", \"a cat\", \"a car\"]  # Make sure this is defined before using it\n",
    "\n",
    "# Process image and text into model inputs\n",
    "image_inputs = processor(images=image, return_tensors=\"pt\").to(device)\n",
    "text_inputs = processor(text=texts, return_tensors=\"pt\", padding=True).to(device)\n",
    "\n",
    "# Compute features and similarity\n",
    "with torch.no_grad():\n",
    "    image_features = model.get_image_features(**image_inputs)\n",
    "    text_features = model.get_text_features(**text_inputs)\n",
    "\n",
    "# Normalize the features\n",
    "image_features /= image_features.norm(dim=-1, keepdim=True)\n",
    "text_features /= text_features.norm(dim=-1, keepdim=True)\n",
    "\n",
    "# Compute cosine similarity and apply softmax\n",
    "similarity = (image_features @ text_features.T).softmax(dim=-1)\n",
    "\n",
    "# Print similarity scores\n",
    "print(similarity)\n",
    "\n"
   ]
  },
  {
   "cell_type": "code",
   "execution_count": null,
   "id": "6b32df21-8947-4219-985f-d07d2a7cea86",
   "metadata": {},
   "outputs": [],
   "source": []
  }
 ],
 "metadata": {
  "kernelspec": {
   "display_name": "Python 3 (ipykernel)",
   "language": "python",
   "name": "python3"
  },
  "language_info": {
   "codemirror_mode": {
    "name": "ipython",
    "version": 3
   },
   "file_extension": ".py",
   "mimetype": "text/x-python",
   "name": "python",
   "nbconvert_exporter": "python",
   "pygments_lexer": "ipython3",
   "version": "3.12.7"
  }
 },
 "nbformat": 4,
 "nbformat_minor": 5
}
